{
 "cells": [
  {
   "cell_type": "code",
   "execution_count": 1,
   "metadata": {},
   "outputs": [],
   "source": [
    "%load_ext autoreload\n",
    "%autoreload 2\n",
    "from models.bilstm_crf import BiLstm_CRF\n",
    "import torch\n",
    "import torch.optim as optim\n",
    "import utils.solver as solver\n",
    "from models.bilstm_crf import BiLstm_CRF\n",
    "import utils.data_reader as data_reader\n",
    "\n"
   ]
  },
  {
   "cell_type": "code",
   "execution_count": 4,
   "metadata": {},
   "outputs": [
    {
     "name": "stdout",
     "output_type": "stream",
     "text": [
      "Reading source data ...\n",
      "[128, 128, 128, 128, 128, 4, 128, 45, 128, 50, 111, 128, 80, 125, 125]\n",
      "([95, 34, 84, 49, 21, 24, 26, 72, 108, 32, 80, 95, 34, 84, 49], tensor(47.0206, device='cuda:0'))\n",
      "([128, 128, 128, 128, 128, 128, 128, 128, 128, 128, 128, 128, 128, 128, 80], tensor(53.8885, device='cuda:0'))\n"
     ]
    }
   ],
   "source": [
    "torch.manual_seed(1)\n",
    "torch.set_num_threads(torch.get_num_threads() // 3)\n",
    "device = torch.device('cuda')\n",
    "\n",
    "START_TAG = \"<START>\"\n",
    "STOP_TAG = \"<END>\"\n",
    "EMBEDDING_DIM = 128\n",
    "HIDDEN_DIM = 128\n",
    "\n",
    "# Make up some training data\n",
    "(word2idx, idx2word), (tag2idx, idx2tag) = data_reader.read_word_and_tag(\n",
    "        './mid/vocab.txt', './data/lab.txt')\n",
    "seqs_train, tags_train, intents_train = data_reader.read_seqtag_data_with_unali_act(\n",
    "        './data/train.txt', word2idx, tag2idx)\n",
    "training_data = list(zip(seqs_train, tags_train))\n",
    "# print(training_data)\n",
    "model = BiLstm_CRF(word2idx, tag2idx, EMBEDDING_DIM, HIDDEN_DIM, 1, device=device).to(device)\n",
    "optimizer = optim.Adam(model.parameters(), lr=0.001, weight_decay=1e-4)\n",
    "\n",
    "print(training_data[0][1])\n",
    "# Check predictions before training\n",
    "with torch.no_grad():\n",
    "    precheck_sent = training_data[0][0]\n",
    "    precheck_tags = training_data[0][1]\n",
    "    print(model(precheck_sent))\n",
    "\n",
    "# Make sure prepare_sequence from earlier in the LSTM section is loaded\n",
    "for epoch in range(1):  # again, normally you would NOT do 300 epochs, it is toy data\n",
    "    for sentence, tags in training_data:\n",
    "        # Step 1. Remember that Pytorch accumulates gradients.\n",
    "        # We need to clear them out before each instance\n",
    "        model.zero_grad()\n",
    "\n",
    "        # Step 2. Get our inputs ready for the network, that is,\n",
    "        # turn them into Tensors of word indices.\n",
    "        targets = torch.tensor(tags, dtype=torch.long)\n",
    "\n",
    "        # Step 3. Run our forward pass.\n",
    "        loss = model.loss(sentence, targets)\n",
    "\n",
    "        # Step 4. Compute the loss, gradients, and update the parameters by\n",
    "        # calling optimizer.step()\n",
    "        loss.backward()\n",
    "        optimizer.step()\n",
    "\n",
    "# Check predictions after training\n",
    "with torch.no_grad():\n",
    "    precheck_sent = training_data[0][0]\n",
    "    print(model(precheck_sent))\n",
    "# We got it!"
   ]
  },
  {
   "cell_type": "code",
   "execution_count": null,
   "metadata": {},
   "outputs": [],
   "source": []
  },
  {
   "cell_type": "code",
   "execution_count": null,
   "metadata": {},
   "outputs": [],
   "source": []
  },
  {
   "cell_type": "code",
   "execution_count": null,
   "metadata": {},
   "outputs": [],
   "source": [
    "a = [1,2,3]\n",
    "b = [5,6,7]\n",
    "list(zip(a,b))"
   ]
  },
  {
   "cell_type": "code",
   "execution_count": null,
   "metadata": {},
   "outputs": [],
   "source": []
  }
 ],
 "metadata": {
  "kernelspec": {
   "display_name": "Python [conda env:gpu-torch]",
   "language": "python",
   "name": "conda-env-gpu-torch-py"
  },
  "language_info": {
   "codemirror_mode": {
    "name": "ipython",
    "version": 3
   },
   "file_extension": ".py",
   "mimetype": "text/x-python",
   "name": "python",
   "nbconvert_exporter": "python",
   "pygments_lexer": "ipython3",
   "version": "3.6.6"
  }
 },
 "nbformat": 4,
 "nbformat_minor": 2
}
